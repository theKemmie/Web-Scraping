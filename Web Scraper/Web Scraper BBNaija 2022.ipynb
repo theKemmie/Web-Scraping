{
  "nbformat": 4,
  "nbformat_minor": 0,
  "metadata": {
    "colab": {
      "name": "Web Scraper - BBNaija 2022 .ipynb",
      "provenance": [],
      "collapsed_sections": []
    },
    "kernelspec": {
      "name": "python3",
      "display_name": "Python 3"
    },
    "language_info": {
      "name": "python"
    }
  },
  "cells": [
    {
      "cell_type": "code",
      "source": [
        "#Import Libraries\n",
        "import pandas as pd\n",
        "import snscrape.modules.twitter as sntwitter\n",
        "import nltk\n",
        "from nltk.tokenize import word_tokenize\n",
        "nltk.download('punkt')"
      ],
      "metadata": {
        "id": "esjd0UKVB9qr"
      },
      "execution_count": null,
      "outputs": []
    },
    {
      "cell_type": "code",
      "source": [
        "query = \"(#BBNaija) until:2022-08-10 since:2022-08-03\"\n",
        "tweets = []\n",
        "limit = 500000\n",
        "\n",
        "for tweet in sntwitter.TwitterHashtagScraper(query).get_items():\n",
        "    if len(tweets) == limit:\n",
        "        break\n",
        "    else:\n",
        "        tweets.append([tweet.date, tweet.url, tweet.user.username, tweet.sourceLabel, tweet.user.location, tweet.content,  tweet.likeCount, tweet.retweetCount, tweet.quoteCount, tweet.replyCount])\n",
        "\n",
        "df = pd.DataFrame(tweets, columns=['Date', 'TweetURL','User', 'Source', 'Location', 'Tweet', 'Likes_Count','Retweet_Count', 'Quote_Count', 'Reply_Count'])"
      ],
      "metadata": {
        "id": "ekOlfPTaAcwB"
      },
      "execution_count": 12,
      "outputs": []
    },
    {
      "cell_type": "code",
      "source": [
        "#Save to CSV File\n",
        "df.to_csv('BBNaijaTweets2022.csv')"
      ],
      "metadata": {
        "id": "Xx-rlBPKAkmV"
      },
      "execution_count": null,
      "outputs": []
    }
  ]
}